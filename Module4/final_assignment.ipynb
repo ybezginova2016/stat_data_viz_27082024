{
 "cells": [
  {
   "cell_type": "markdown",
   "source": [
    "### Question 1\n",
    "\n",
    "In the code block below, generate 3 normal random variables with mean 100 and standard deviation 1.\n",
    "\n",
    "This will require about 4 lines of code. Use the functions provided in this outline.\n",
    "\n",
    "Import the numpy library\n",
    "\n",
    "Set the seed to 123 to initialize environment so random variables are replicated according to the grader. (hint: np.random.seed(?))\n",
    "\n",
    "Generate three random normal variables with mean 100 and standard deviation 1 and assign them to a variable named sample. (hint: sample = np.random.normal(?,?,?))\n",
    "\n",
    "Print the variable sample.\n",
    "\n",
    "The question marks in the hints indicate input parameters.\n",
    "\n",
    "Choose the answer that matches your result to three decimal places.\n",
    "\n",
    "**Reference Documentation**\n",
    "* https://docs.scipy.org/doc/numpy-1.15.1/reference/generated/numpy.random.seed.html\n",
    "* https://docs.scipy.org/doc/numpy-1.15.1/reference/generated/numpy.random.normal.html"
   ],
   "metadata": {
    "collapsed": false,
    "pycharm": {
     "name": "#%% md\n"
    }
   }
  },
  {
   "cell_type": "code",
   "execution_count": 1,
   "outputs": [
    {
     "name": "stdout",
     "output_type": "stream",
     "text": [
      "[ 98.9143694  100.99734545 100.2829785 ]\n"
     ]
    }
   ],
   "source": [
    "import numpy as np\n",
    "\n",
    "def generate_random_variables():\n",
    "    # Set the seed for reproducibility\n",
    "    np.random.seed(123)\n",
    "\n",
    "    # Generate three normal random variables with mean 100 and standard deviation 1\n",
    "    sample = np.random.normal(loc=100, scale=1, size=3)\n",
    "\n",
    "    # Print the result\n",
    "    print(sample)\n",
    "\n",
    "# Call the function to generate and print the random variables\n",
    "generate_random_variables()"
   ],
   "metadata": {
    "collapsed": false,
    "pycharm": {
     "name": "#%%\n"
    }
   }
  },
  {
   "cell_type": "markdown",
   "source": [
    "#### Explanation:\n",
    "\n",
    "* Import numpy: Import the numpy library which contains functions for generating random numbers.\n",
    "Set the seed: Use np.random.seed(123) to initialize the random number generator with a seed for reproducibility.\n",
    "* Generate random variables: Use np.random.normal(loc=100, scale=1, size=3) to generate three random variables from a normal distribution with mean 100 and standard deviation 1.\n",
    "* Print the result: Output the generated random variables."
   ],
   "metadata": {
    "collapsed": false,
    "pycharm": {
     "name": "#%% md\n"
    }
   }
  },
  {
   "cell_type": "markdown",
   "source": [
    "### Question 2\n",
    "\n",
    "Generating random samples from a population lies at the heart of statistics. In the code block below, draw a sample of size 10 from a set containing the integers 1 through 100.\n",
    "\n",
    "This will require about 5 lines of code. Use the functions provided in this outline.\n",
    "\n",
    "Import the numpy library\n",
    "\n",
    "Set the seed to 123 to initialize environment so random variables are replicated according to the grader. (hint: np.random.seed(?))\n",
    "\n",
    "Create a vector called population, and put the numbers 1-100 into the population list. (hint: np.arange(?,?))\n",
    "\n",
    "Generate a sample with length 10 from the population. (hint: sample = np.random.choice(?, ?)) and assign the output to a variable named sample.\n",
    "\n",
    "Print the variable sample.\n",
    "\n",
    "The question marks in the hints above indicate input parameters.\n",
    "\n",
    "Reference Documentation\n",
    "* https://docs.scipy.org/doc/numpy-1.15.1/reference/generated/numpy.random.seed.html\n",
    "* https://docs.scipy.org/doc/numpy-1.15.1/reference/generated/numpy.arange.html\n",
    "* https://docs.scipy.org/doc/numpy-1.15.1/reference/generated/numpy.random.choice.html"
   ],
   "metadata": {
    "collapsed": false,
    "pycharm": {
     "name": "#%% md\n"
    }
   }
  },
  {
   "cell_type": "code",
   "execution_count": 9,
   "outputs": [
    {
     "name": "stdout",
     "output_type": "stream",
     "text": [
      "[67 93 99 18 84 58 87 98 97 48]\n"
     ]
    }
   ],
   "source": [
    "import numpy as np\n",
    "\n",
    "# Set the seed for reproducibility\n",
    "np.random.seed(123)\n",
    "\n",
    "# Create a vector with integers from 1 to 100\n",
    "population = np.arange(1, 101)\n",
    "\n",
    "# Generate a random sample of size 10 from the population\n",
    "sample = np.random.choice(population, size=10, replace=True)\n",
    "\n",
    "# Print the sample\n",
    "print(sample)"
   ],
   "metadata": {
    "collapsed": false,
    "pycharm": {
     "name": "#%%\n"
    }
   }
  },
  {
   "cell_type": "markdown",
   "source": [
    "The difference between setting replace=True and replace=False in np.random.choice() is in whether sampling is done with or without replacement.\n",
    "\n",
    "* `replace=False (Without Replacement):`\n",
    "Each item in the population can only be selected once.\n",
    "The sample will contain unique elements, and its size cannot exceed the size of the population.\n",
    "Example output with replace=False: [12 14 57 79 70 72 36 25 67 9]\n",
    "\n",
    "* `replace=True (With Replacement):`\n",
    "Each item in the population can be selected more than once.\n",
    "The sample can contain duplicate elements because the same item can be chosen multiple times.\n",
    "Example output with replace=True: [ 9 71 83 29 64 1 6 51 82 5]"
   ],
   "metadata": {
    "collapsed": false,
    "pycharm": {
     "name": "#%% md\n"
    }
   }
  }
 ],
 "metadata": {
  "kernelspec": {
   "display_name": "Python 3",
   "language": "python",
   "name": "python3"
  },
  "language_info": {
   "codemirror_mode": {
    "name": "ipython",
    "version": 2
   },
   "file_extension": ".py",
   "mimetype": "text/x-python",
   "name": "python",
   "nbconvert_exporter": "python",
   "pygments_lexer": "ipython2",
   "version": "2.7.6"
  }
 },
 "nbformat": 4,
 "nbformat_minor": 0
}