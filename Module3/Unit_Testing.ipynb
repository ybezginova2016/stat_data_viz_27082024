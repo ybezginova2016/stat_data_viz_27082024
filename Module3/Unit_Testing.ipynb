{
 "cells": [
  {
   "cell_type": "markdown",
   "metadata": {
    "pycharm": {
     "name": "#%% md\n"
    }
   },
   "source": [
    "## Testing and reproducibility for statistical code\n",
    "\n",
    "A variety of best practices have been developed to give people confidence that their data analysis code is operating correctly.  In this notebook we review a few of these strategies.Юнит-тестирование и assert\n",
    "\n",
    "## Юнит-тестирование\n",
    "**Юнит-тестирование** — это метод тестирования программного обеспечения, при котором проверяются отдельные модули или функции программы. Целью является убедиться, что каждая часть программы работает корректно. Тесты могут быть автоматическими, что позволяет регулярно проверять функциональность кода после его изменений.\n",
    "\n",
    "`assert` — это встроенная функция в Python, используемая для создания утверждений в коде. Она проверяет, выполняется ли указанное условие. Если условие истинно, программа продолжает выполнение. Если условие ложно, возникает исключение AssertionError, что позволяет разработчику понять, что что-то пошло не так."
   ]
  },
  {
   "cell_type": "code",
   "execution_count": 1,
   "metadata": {
    "pycharm": {
     "name": "#%%\n"
    }
   },
   "outputs": [],
   "source": [
    "import numpy as np\n",
    "import pandas as pd\n",
    "import matplotlib as plt"
   ]
  },
  {
   "cell_type": "markdown",
   "metadata": {
    "pycharm": {
     "name": "#%% md\n"
    }
   },
   "source": [
    "Sometimes we can reassure ourselve that our code is correct by using a logical check against a known answer.  These checks can be implemented in Python using [assert](https://docs.python.org/3/reference/simple_stmts.html#the-assert-statement) expressions that fail when a given expression is not true and run silently otherwise.\n",
    "\n",
    "A trivial example of an assert is:"
   ]
  },
  {
   "cell_type": "code",
   "execution_count": 2,
   "metadata": {
    "pycharm": {
     "name": "#%%\n"
    }
   },
   "outputs": [],
   "source": [
    "assert 3 == 2 + 1 # Проверка выражения с помощью assert\n",
    "# Проверяет, что 3 равно 2 + 1. Поскольку это условие истинно, код продолжает выполнение без ошибок."
   ]
  },
  {
   "cell_type": "markdown",
   "metadata": {
    "pycharm": {
     "name": "#%% md\n"
    }
   },
   "source": [
    "As a slightly more interesting example, suppose that we aren't clear what the numpy [max](https://pandas.pydata.org/docs/reference/api/pandas.Series.max.html) function does.  We can reassure ourselves by checking its result against an example where the truth is known:"
   ]
  },
  {
   "cell_type": "code",
   "execution_count": 3,
   "metadata": {
    "pycharm": {
     "name": "#%%\n"
    }
   },
   "outputs": [],
   "source": [
    "assert np.max([2, 5, 3]) == 5 # Тестирование функции numpy.max\n",
    "# Проверяет, что максимальное значение в списке [2, 5, 3] действительно равно 5. Если это не так, возникнет ошибка."
   ]
  },
  {
   "cell_type": "markdown",
   "metadata": {
    "pycharm": {
     "name": "#%% md\n"
    }
   },
   "source": [
    "# Testing statistical procedures with simulation\n",
    "\n",
    "A more interesting example uses simulation to confirm that the result of a procedure that involves random sampling gives results that are close to what is expected.  Specifically, suppose we wish to confirm that the numpy [random.normal](https://numpy.org/doc/stable/reference/random/generated/numpy.random.normal.html) function generates data that follow a standard normal distribution.  One way to do this is to generate a large random sample, and check whether the sample standard deviation is close to 1 (we could also check whether the sample mean is close to zero).  Since the procedure is random, we cannot expect perfect agreement, so we use the numpy [allclose](https://numpy.org/doc/stable/reference/generated/numpy.allclose.html) function to check that the sample standard deviation is close to 1.  See the 'allclose' documentation for the precise meaning of the relative and absolute tolerance arguments (rtol and atol).  We fix the seed since there is always a small chance that any simulation-based test will fail."
   ]
  },
  {
   "cell_type": "code",
   "execution_count": 31,
   "metadata": {
    "pycharm": {
     "name": "#%%\n"
    }
   },
   "outputs": [],
   "source": [
    "np.random.seed(123) # Тестирование статистических процедур с помощью симуляции\n",
    "assert np.allclose(np.random.normal(size=1000).std(), 1, rtol=1e-2, atol=1e-2)\n",
    "\n",
    "# Устанавливает фиксированное начальное значение для генератора случайных чисел с помощью np.random.seed(123), чтобы результаты были воспроизводимыми.\n",
    "# Генерирует 1000 случайных чисел из стандартного нормального распределения и проверяет, что их стандартное отклонение близко к 1 (в пределах относительной и абсолютной погрешностей 1e-2)."
   ]
  },
  {
   "cell_type": "markdown",
   "metadata": {
    "pycharm": {
     "name": "#%% md\n"
    }
   },
   "source": [
    "A known property of the Poisson distribution is that its population mean and variance are identical.  We can check that the sample mean and variance of a random sample from a Poisson distribution are similar."
   ]
  },
  {
   "cell_type": "code",
   "execution_count": 41,
   "metadata": {
    "pycharm": {
     "name": "#%%\n"
    }
   },
   "outputs": [],
   "source": [
    "np.random.seed(123)\n",
    "x = np.random.poisson(2, size=100000)\n",
    "assert np.allclose(x.mean(), x.var(), rtol=1e-2, atol=1e-3)"
   ]
  },
  {
   "cell_type": "markdown",
   "metadata": {
    "pycharm": {
     "name": "#%% md\n"
    }
   },
   "source": [
    "## Testing data manipulation code\n",
    "\n",
    "Next we consider some ways to reassure us that code involving data manipulation is operating correctly.  Suppose we are analyzing the NHANES 2015-2016 data.  First we will load the data."
   ]
  },
  {
   "cell_type": "code",
   "execution_count": 7,
   "metadata": {
    "pycharm": {
     "name": "#%%\n"
    }
   },
   "outputs": [
    {
     "name": "stdout",
     "output_type": "stream",
     "text": [
      "    SEQN  ALQ101  ALQ110  ALQ130  SMQ020  RIAGENDR  RIDAGEYR  RIDRETH1  \\\n",
      "0  83732     1.0     NaN     1.0       1         1        62         3   \n",
      "1  83733     1.0     NaN     6.0       1         1        53         3   \n",
      "2  83734     1.0     NaN     NaN       1         1        78         3   \n",
      "3  83735     2.0     1.0     1.0       2         2        56         3   \n",
      "4  83736     2.0     1.0     1.0       2         2        42         4   \n",
      "\n",
      "   DMDCITZN  DMDEDUC2  ...  BPXSY2  BPXDI2  BMXWT  BMXHT  BMXBMI  BMXLEG  \\\n",
      "0       1.0       5.0  ...   124.0    64.0   94.8  184.5    27.8    43.3   \n",
      "1       2.0       3.0  ...   140.0    88.0   90.4  171.4    30.8    38.0   \n",
      "2       1.0       3.0  ...   132.0    44.0   83.4  170.1    28.8    35.6   \n",
      "3       1.0       5.0  ...   134.0    68.0  109.8  160.9    42.4    38.5   \n",
      "4       1.0       4.0  ...   114.0    54.0   55.2  164.9    20.3    37.4   \n",
      "\n",
      "   BMXARML  BMXARMC  BMXWAIST  HIQ210  \n",
      "0     43.6     35.9     101.1     2.0  \n",
      "1     40.0     33.2     107.9     NaN  \n",
      "2     37.0     31.0     116.5     2.0  \n",
      "3     37.7     38.3     110.1     2.0  \n",
      "4     36.0     27.2      80.4     2.0  \n",
      "\n",
      "[5 rows x 28 columns]\n"
     ]
    }
   ],
   "source": [
    "# Download NHANES 2015-2016 data\n",
    "# df = pd.read_csv(\"nhanes_2015_2016.csv\")\n",
    "\n",
    "url = \"https://raw.githubusercontent.com/rashida048/Datasets/master/nhanes_2015_2016.csv\"\n",
    "df = pd.read_csv(url)\n",
    "\n",
    "# Вывод первых 5 строк данных\n",
    "print(df.head())"
   ]
  },
  {
   "cell_type": "markdown",
   "metadata": {
    "pycharm": {
     "name": "#%% md\n"
    }
   },
   "source": [
    "After loading the data, we may wish to confirm that the sequence variable [SEQN](https://wwwn.cdc.gov/Nchs/Nhanes/2015-2016/DEMO_I.htm#SEQN) (which is supposed to be a unique identifier for each subject) is never missing.  This can be done as follows:"
   ]
  },
  {
   "cell_type": "code",
   "execution_count": 9,
   "metadata": {
    "pycharm": {
     "name": "#%%\n"
    }
   },
   "outputs": [],
   "source": [
    "# Проверка наличия пропущенных значений в переменной SEQN\n",
    "assert pd.notnull(df[\"SEQN\"]).all()\n",
    "\n",
    "# Проверяет, что в столбце SEQN нет пропущенных значений. Если есть пропущенные значения, возникает ошибка."
   ]
  },
  {
   "cell_type": "markdown",
   "metadata": {
    "pycharm": {
     "name": "#%% md\n"
    }
   },
   "source": [
    "Suppose further that we wish to check that the SEQN variable is indeed unique:"
   ]
  },
  {
   "cell_type": "code",
   "execution_count": 34,
   "metadata": {
    "pycharm": {
     "name": "#%%\n"
    }
   },
   "outputs": [],
   "source": [
    "# Проверка уникальности значений в переменной SEQN\n",
    "assert len(df[\"SEQN\"].unique()) == df.shape[0]\n",
    "\n",
    "# Проверяет, что количество уникальных значений в столбце SEQN равно числу строк в DataFrame, подтверждая, что SEQN является уникальным идентификатором."
   ]
  },
  {
   "cell_type": "markdown",
   "metadata": {
    "pycharm": {
     "name": "#%% md\n"
    }
   },
   "source": [
    "We can also use *range checks* to confirm that the data are coded as expected.  For example, the age variable is *top coded* at 80, so there should be no values greater than 80 in the data:"
   ]
  },
  {
   "cell_type": "code",
   "execution_count": 35,
   "metadata": {
    "pycharm": {
     "name": "#%%\n"
    }
   },
   "outputs": [],
   "source": [
    "# Проверка верхней границы значения возраста\n",
    "assert df[\"RIDAGEYR\"].max() <= 80\n",
    "\n",
    "# Проверяет, что максимальное значение в столбце RIDAGEYR (возраст) не превышает 80, так как возраст должен быть \"топ-кодирован\" на 80."
   ]
  },
  {
   "cell_type": "markdown",
   "metadata": {
    "pycharm": {
     "name": "#%% md\n"
    }
   },
   "source": [
    "Suppose we have been told that whenever ALQ101 is missing then ALQ110 must always be missing.  The following assert confirms this:"
   ]
  },
  {
   "cell_type": "code",
   "execution_count": 36,
   "metadata": {
    "pycharm": {
     "name": "#%%\n"
    }
   },
   "outputs": [],
   "source": [
    "# Проверка согласованности пропущенных значений между переменными ALQ101 и ALQ110\n",
    "assert (pd.notnull(df[\"ALQ101\"]) | pd.isnull(df[\"ALQ110\"])).all()\n",
    "\n",
    "# Проверяет, что если ALQ101 не является пропущенным, то и ALQ110 также должен быть пропущен. Если это условие нарушается, возникает ошибка."
   ]
  },
  {
   "cell_type": "markdown",
   "metadata": {
    "pycharm": {
     "name": "#%% md\n"
    }
   },
   "source": [
    "Now suppose that we wish to confirm that all columns of the dataframe contain numbers.  This can be done as follows:"
   ]
  },
  {
   "cell_type": "code",
   "execution_count": 10,
   "metadata": {
    "pycharm": {
     "name": "#%%\n"
    }
   },
   "outputs": [],
   "source": [
    "# Проверка, что все столбцы содержат числовые данные\n",
    "assert all([np.issubdtype(x, np.number) for x in df.dtypes])\n",
    "\n",
    "# Проверяет, что все столбцы в DataFrame содержат числовые данные. Если хотя бы один столбец содержит нечисловые данные, возникает ошибка."
   ]
  },
  {
   "cell_type": "markdown",
   "source": [
    "#### Использование `assert` помогает проверить, что функции и процедуры работают правильно. Юнит-тестирование и assert позволяют находить и исправлять ошибки на ранних этапах разработки, улучшая надёжность и корректность кода."
   ],
   "metadata": {
    "collapsed": false,
    "pycharm": {
     "name": "#%% md\n"
    }
   }
  },
  {
   "cell_type": "code",
   "execution_count": 6,
   "outputs": [
    {
     "data": {
      "text/plain": "<Figure size 640x480 with 1 Axes>",
      "image/png": "[encoded data removed]"
     },
     "metadata": {},
     "output_type": "display_data"
    }
   ],
   "source": [
    "import numpy as np\n",
    "import matplotlib.pyplot as plt\n",
    "import scipy.stats as stats\n",
    "\n",
    "# Параметр λ\n",
    "lambda_param = 2\n",
    "\n",
    "# Значения для оси X (количество событий)\n",
    "x = np.arange(0, 13)\n",
    "\n",
    "# Вероятности для каждого количества событий\n",
    "pmf = stats.poisson.pmf(x, lambda_param)\n",
    "\n",
    "# Построение графика\n",
    "plt.bar(x, pmf, color='blue', alpha=0.7)\n",
    "plt.xlabel('Количество событий')\n",
    "plt.ylabel('Вероятность')\n",
    "plt.title(f'Распределение Пуассона (λ = {lambda_param})')\n",
    "plt.show()"
   ],
   "metadata": {
    "collapsed": false,
    "pycharm": {
     "name": "#%%\n"
    }
   }
  }
 ],
 "metadata": {
  "kernelspec": {
   "display_name": "Python 3 (ipykernel)",
   "language": "python",
   "name": "python3"
  },
  "language_info": {
   "codemirror_mode": {
    "name": "ipython",
    "version": 3
   },
   "file_extension": ".py",
   "mimetype": "text/x-python",
   "name": "python",
   "nbconvert_exporter": "python",
   "pygments_lexer": "ipython3",
   "version": "3.11.4"
  }
 },
 "nbformat": 4,
 "nbformat_minor": 2
}